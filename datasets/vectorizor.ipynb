{
 "cells": [
  {
   "cell_type": "code",
   "execution_count": null,
   "id": "f41fa8db-13fe-4b7b-88a6-b4a2b6cfdb7c",
   "metadata": {},
   "outputs": [],
   "source": [
    "!pip install chromadb"
   ]
  },
  {
   "cell_type": "code",
   "execution_count": 2,
   "id": "862950b5-d890-43bd-8dfb-b9ab1c6f00a7",
   "metadata": {},
   "outputs": [],
   "source": [
    "import os\n",
    "import shutil\n",
    "import re\n",
    "import json\n",
    "import logging\n",
    "\n",
    "from datetime import datetime\n",
    "from dotenv import load_dotenv\n",
    "\n",
    "from langchain.text_splitter import RecursiveCharacterTextSplitter\n",
    "from langchain_openai import AzureOpenAIEmbeddings\n",
    "from langchain.vectorstores import Chroma\n",
    "from langchain.document_loaders import PyPDFDirectoryLoader\n",
    "\n",
    "logger = logging.getLogger('__name__')"
   ]
  },
  {
   "cell_type": "code",
   "execution_count": 3,
   "id": "0d163370-fd76-48f8-bae5-3ee306c8b0d0",
   "metadata": {},
   "outputs": [],
   "source": [
    "AZURE_OPENAI_API_KEY=os.environ.get('AZURE_OPENAI_API_KEY')\n",
    "AZURE_OPENAI_ENDPOINT=os.environ.get('AZURE_OPENAI_ENDPOINT')\n",
    "AZURE_OPENAI_API_VERSION=\"2024-06-01\"\n",
    "\n",
    "if not os.getenv(\"OPENAI_API_KEY\"):\n",
    "    os.environ[\"OPENAI_API_KEY\"] = AZURE_OPENAI_API_KEY\n",
    "\n",
    "embedding_deployment_name=\"azure-text-embedding-3-small\"\n",
    "chunk_size = 1000\n",
    "chunk_overlap = 150\n",
    "model_name = \"azure-gpt-4o\"\n",
    "persist_directory = \"./db\"\n",
    "documents_directory = \"doc_pool\"\n",
    "\n",
    "if not os.path.exists(persist_directory):\n",
    "    os.mkdir(persist_directory)"
   ]
  },
  {
   "cell_type": "code",
   "execution_count": 3,
   "id": "87adcde3-0dac-44d0-85ee-282df17ec461",
   "metadata": {},
   "outputs": [
    {
     "name": "stdout",
     "output_type": "stream",
     "text": [
      "CPU times: user 19 s, sys: 140 ms, total: 19.1 s\n",
      "Wall time: 19.1 s\n"
     ]
    }
   ],
   "source": [
    "%%time\n",
    "\n",
    "loader = PyPDFDirectoryLoader(documents_directory)\n",
    "docs = loader.load()"
   ]
  },
  {
   "cell_type": "code",
   "execution_count": 12,
   "id": "969a76a0-c89a-4a45-83f3-cc3b081da70b",
   "metadata": {},
   "outputs": [
    {
     "data": {
      "text/plain": [
       "'1\\nWHITE PAPER ON \\nHEALTHIER SG\\n'"
      ]
     },
     "execution_count": 12,
     "metadata": {},
     "output_type": "execute_result"
    }
   ],
   "source": [
    "docs[0].page_content"
   ]
  },
  {
   "cell_type": "code",
   "execution_count": 4,
   "id": "23fb3805-9ada-49ba-96d5-e33a164f7844",
   "metadata": {},
   "outputs": [
    {
     "name": "stdout",
     "output_type": "stream",
     "text": [
      "CPU times: user 3.04 s, sys: 161 ms, total: 3.2 s\n",
      "Wall time: 10.7 s\n"
     ]
    }
   ],
   "source": [
    "%%time\n",
    "\n",
    "try:\n",
    "    # split documents\n",
    "    text_splitter = RecursiveCharacterTextSplitter(\n",
    "        chunk_size=chunk_size, chunk_overlap=chunk_overlap\n",
    "    )\n",
    "    split_docs = text_splitter.split_documents(docs)\n",
    "    logger.info(\n",
    "        f\"Number of documents after passing through text_splitter: {len(split_docs)}\"\n",
    "    )\n",
    "    # define embedding\n",
    "    # embeddings.embed_query('this is test')\n",
    "    embedding = AzureOpenAIEmbeddings(\n",
    "        model=embedding_deployment_name\n",
    "    )\n",
    "\n",
    "    # create vector database from data\n",
    "    vectordb = Chroma.from_documents(\n",
    "        collection_name='sg_health',\n",
    "        documents=split_docs,\n",
    "        embedding=embedding,\n",
    "        persist_directory=persist_directory,\n",
    "    )\n",
    "    logger.info(f\"VectorDB collection count: {vectordb._collection.count()}\")\n",
    "except Exception as e:\n",
    "    logger.exception(f\"Error indexing the data: {e}\")"
   ]
  },
  {
   "cell_type": "code",
   "execution_count": null,
   "id": "981fe5a8-c922-41b4-8bc1-306658601038",
   "metadata": {},
   "outputs": [],
   "source": []
  },
  {
   "cell_type": "markdown",
   "id": "5e2b7cfb-e6df-4cff-b7e5-38cb0df337b8",
   "metadata": {},
   "source": [
    "## test chromadb"
   ]
  },
  {
   "cell_type": "code",
   "execution_count": null,
   "id": "d0e78b4e-babd-4c39-ae3b-1ec302567afc",
   "metadata": {},
   "outputs": [],
   "source": [
    "embedding = AzureOpenAIEmbeddings(\n",
    "    model=embedding_deployment_name\n",
    ")\n",
    "\n",
    "vector_store = Chroma(\n",
    "    collection_name=\"sg_health\",\n",
    "    embedding_function=embedding,\n",
    "    persist_directory=persist_directory\n",
    ")\n",
    "\n",
    "results = vector_store.similarity_search(\n",
    "    \"What are the key features of healthier SG\",\n",
    "    k=5\n",
    ")\n",
    "for res in results:\n",
    "    print(f\"* {res.page_content} [{res.metadata}]\")"
   ]
  },
  {
   "cell_type": "code",
   "execution_count": 6,
   "id": "0d6e73b9-7647-44c4-bedf-37b0d6e06119",
   "metadata": {},
   "outputs": [
    {
     "name": "stderr",
     "output_type": "stream",
     "text": [
      "/tmp/ipykernel_539/485603143.py:1: LangChainDeprecationWarning: Since Chroma 0.4.x the manual persistence method is no longer supported as docs are automatically persisted.\n",
      "  vector_store.persist()\n"
     ]
    }
   ],
   "source": [
    "vector_store.persist()"
   ]
  },
  {
   "cell_type": "code",
   "execution_count": 7,
   "id": "4b159d54-8a4e-40f6-bad9-a74bbb6314af",
   "metadata": {},
   "outputs": [
    {
     "data": {
      "text/plain": [
       "Document(metadata={'page': 3, 'source': 'doc_pool/healthiersg-whitepaper-pdf.pdf'}, page_content='6 7EXECUTIVE SUMMARY\\nBUILDING UPON STRONG FOUNDATIONS\\nWe are building Healthier SG on strong foundations. Over the years, we have expanded \\nthe capacity of our healthcare system across primary, acute and long-term care; \\nstrengthened the capabilities of our healthcare workforce by expanding education and \\ntraining opportunities; and kept healthcare accessible and affordable by enhancing \\nhealthcare subsidies and introducing MediShield Life and CareShield Life.\\nWe have also achieved very good health outcomes. Life expectancy in Singapore is among \\nthe highest in the world, and we have kept our healthcare expenditure as a percentage  \\nof Gross Domestic Product \\n(GDP) at a sustainable level. \\nClinically, the performance  \\nof the healthcare system \\nis improving, as shown by \\nthe reduction in hospital  \\nre-admissions.Healthier SG is a major transformation of our healthcare system. We are shifting our \\nemphasis from reactively caring for those who are sick, to proactively preventing')"
      ]
     },
     "execution_count": 7,
     "metadata": {},
     "output_type": "execute_result"
    }
   ],
   "source": [
    "res"
   ]
  },
  {
   "cell_type": "code",
   "execution_count": null,
   "id": "55f43e41-1551-41b6-820e-567fc0f1deed",
   "metadata": {},
   "outputs": [],
   "source": []
  }
 ],
 "metadata": {
  "kernelspec": {
   "display_name": "Python 3 (ipykernel)",
   "language": "python",
   "name": "python3"
  },
  "language_info": {
   "codemirror_mode": {
    "name": "ipython",
    "version": 3
   },
   "file_extension": ".py",
   "mimetype": "text/x-python",
   "name": "python",
   "nbconvert_exporter": "python",
   "pygments_lexer": "ipython3",
   "version": "3.10.14"
  }
 },
 "nbformat": 4,
 "nbformat_minor": 5
}
